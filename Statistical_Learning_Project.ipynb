{
  "nbformat": 4,
  "nbformat_minor": 0,
  "metadata": {
    "colab": {
      "name": "Statistical Learning Project.ipynb",
      "provenance": [],
      "collapsed_sections": []
    },
    "kernelspec": {
      "name": "python3",
      "display_name": "Python 3"
    },
    "language_info": {
      "name": "python"
    }
  },
  "cells": [
    {
      "cell_type": "code",
      "execution_count": null,
      "metadata": {
        "id": "7punpHCkQ0F2"
      },
      "outputs": [],
      "source": [
        "import numpy as np\n",
        "import pandas as pd\n",
        "import matplotlib.pyplot as plt\n",
        "%matplotlib inline\n",
        "from sklearn.impute import SimpleImputer\n",
        "from sklearn.pipeline import Pipeline\n",
        "from sklearn.preprocessing import StandardScaler, OneHotEncoder\n",
        "from sklearn import preprocessing\n",
        "from sklearn.feature_selection import SelectFromModel\n",
        "from sklearn.model_selection import train_test_split, GridSearchCV\n",
        "from sklearn.multiclass import OneVsRestClassifier\n",
        "from sklearn.linear_model import LogisticRegression\n",
        "from sklearn.multiclass import OneVsRestClassifier\n",
        "from sklearn.svm import SVC\n",
        "from sklearn.model_selection import RepeatedStratifiedKFold\n",
        "from sklearn.metrics import f1_score, roc_curve, auc,confusion_matrix\n",
        "from sklearn.metrics import RocCurveDisplay\n"
      ]
    },
    {
      "cell_type": "code",
      "source": [
        "from google.colab import drive\n",
        "drive.mount('/content/drive')\n",
        "!ls /content/drive/MyDrive/sgl-arbres-urbains-wgs84.csv"
      ],
      "metadata": {
        "colab": {
          "base_uri": "https://localhost:8080/"
        },
        "id": "DkDFBnSWRIFz",
        "outputId": "8f2ec8b8-5546-4150-8832-2e2f58102bae"
      },
      "execution_count": null,
      "outputs": [
        {
          "output_type": "stream",
          "name": "stdout",
          "text": [
            "Mounted at /content/drive\n",
            "ls: cannot access '/content/drive/MyDrive/sgl-arbres-urbains-wgs84.csv': No such file or directory\n"
          ]
        }
      ]
    },
    {
      "cell_type": "code",
      "source": [
        "df=pd.read_csv('/content/drive/MyDrive/colab/PROJECT/sgl-arbres-urbains-wgs84.csv')\n",
        "dataset= df.iloc[:,:17]\n",
        "#rENAME COLUMNS\n",
        "dataset.rename(columns={\"ID_ARBRE\":\"TREE_ID\", \"commune\":\"municipality\", \"quartier\":\"district\",\n",
        "                        \"cote_voirie\":\"road_side\",\"matricule_arbre\":\"tree_number\",\n",
        "                        \"genre_arbre\":\"tree_genus\", \"espece_arbre\":\"tree_species\", \n",
        "                        \"controle\":\"control\",\"type_sol\":\"soil_type\", \"surf_permeable\":\"permeable_surf\",\n",
        "                  \"date_plantation\":\"planting_date\",\"classe_age\":\"age_class\", \"hauteur\":\"height\", \n",
        "                  \"classe_hauteur\":\"height_class\", \"diametre\":\"diameter\"},inplace=True)\n",
        "#Target variable\n",
        "label = df[\"classification_diagnostic\"]\n",
        "\n",
        "#Join the target variable with the dataset to have a single dataframe\n",
        "dataset[\"classification_diagnostic\"]=label\n"
      ],
      "metadata": {
        "id": "QJiZ9FgHRQE4"
      },
      "execution_count": null,
      "outputs": []
    },
    {
      "cell_type": "code",
      "source": [
        "dataset.head(5)"
      ],
      "metadata": {
        "colab": {
          "base_uri": "https://localhost:8080/",
          "height": 443
        },
        "id": "aU2LPaXrCgAr",
        "outputId": "c3ff135c-354c-4930-c709-eba2aef1dbec"
      },
      "execution_count": null,
      "outputs": [
        {
          "output_type": "execute_result",
          "data": {
            "text/html": [
              "\n",
              "  <div id=\"df-519d82c5-e5a7-4076-98b6-ad42dd6a11ef\">\n",
              "    <div class=\"colab-df-container\">\n",
              "      <div>\n",
              "<style scoped>\n",
              "    .dataframe tbody tr th:only-of-type {\n",
              "        vertical-align: middle;\n",
              "    }\n",
              "\n",
              "    .dataframe tbody tr th {\n",
              "        vertical-align: top;\n",
              "    }\n",
              "\n",
              "    .dataframe thead th {\n",
              "        text-align: right;\n",
              "    }\n",
              "</style>\n",
              "<table border=\"1\" class=\"dataframe\">\n",
              "  <thead>\n",
              "    <tr style=\"text-align: right;\">\n",
              "      <th></th>\n",
              "      <th>TREE_ID</th>\n",
              "      <th>municipality</th>\n",
              "      <th>district</th>\n",
              "      <th>site</th>\n",
              "      <th>road_side</th>\n",
              "      <th>tree_number</th>\n",
              "      <th>tree_genus</th>\n",
              "      <th>tree_species</th>\n",
              "      <th>control</th>\n",
              "      <th>situation</th>\n",
              "      <th>soil_type</th>\n",
              "      <th>permeable_surf</th>\n",
              "      <th>planting_date</th>\n",
              "      <th>age_class</th>\n",
              "      <th>height</th>\n",
              "      <th>height_class</th>\n",
              "      <th>diameter</th>\n",
              "      <th>classification_diagnostic</th>\n",
              "    </tr>\n",
              "  </thead>\n",
              "  <tbody>\n",
              "    <tr>\n",
              "      <th>0</th>\n",
              "      <td>78551-Arbres-001</td>\n",
              "      <td>Saint Germain en Laye</td>\n",
              "      <td>Quartier 2 - Alsace - Pereire</td>\n",
              "      <td>Carrefour RN13</td>\n",
              "      <td>NaN</td>\n",
              "      <td>7</td>\n",
              "      <td>Betula</td>\n",
              "      <td>Alba</td>\n",
              "      <td>NaN</td>\n",
              "      <td>Groupe</td>\n",
              "      <td>P</td>\n",
              "      <td>5.0</td>\n",
              "      <td>2000</td>\n",
              "      <td>A</td>\n",
              "      <td>1000</td>\n",
              "      <td>H2</td>\n",
              "      <td>63.661977</td>\n",
              "      <td>C2</td>\n",
              "    </tr>\n",
              "    <tr>\n",
              "      <th>1</th>\n",
              "      <td>78551-Arbres-002</td>\n",
              "      <td>Saint Germain en Laye</td>\n",
              "      <td>Quartier 2 - Alsace - Pereire</td>\n",
              "      <td>Carrefour RN13</td>\n",
              "      <td>NaN</td>\n",
              "      <td>8</td>\n",
              "      <td>Betula</td>\n",
              "      <td>Alba</td>\n",
              "      <td>NaN</td>\n",
              "      <td>Groupe</td>\n",
              "      <td>P</td>\n",
              "      <td>5.0</td>\n",
              "      <td>2000</td>\n",
              "      <td>A</td>\n",
              "      <td>1000</td>\n",
              "      <td>H2</td>\n",
              "      <td>60.478878</td>\n",
              "      <td>C2</td>\n",
              "    </tr>\n",
              "    <tr>\n",
              "      <th>2</th>\n",
              "      <td>78551-Arbres-003</td>\n",
              "      <td>Saint Germain en Laye</td>\n",
              "      <td>Quartier 2 - Alsace - Pereire</td>\n",
              "      <td>Carrefour RN13</td>\n",
              "      <td>NaN</td>\n",
              "      <td>9</td>\n",
              "      <td>Betula</td>\n",
              "      <td>Alba</td>\n",
              "      <td>NaN</td>\n",
              "      <td>Groupe</td>\n",
              "      <td>P</td>\n",
              "      <td>5.0</td>\n",
              "      <td>2000</td>\n",
              "      <td>A</td>\n",
              "      <td>1000</td>\n",
              "      <td>H2</td>\n",
              "      <td>54.112681</td>\n",
              "      <td>C2</td>\n",
              "    </tr>\n",
              "    <tr>\n",
              "      <th>3</th>\n",
              "      <td>78551-Arbres-004</td>\n",
              "      <td>Saint Germain en Laye</td>\n",
              "      <td>Quartier 2 - Alsace - Pereire</td>\n",
              "      <td>Carrefour RN13</td>\n",
              "      <td>NaN</td>\n",
              "      <td>1</td>\n",
              "      <td>Carpinus</td>\n",
              "      <td>Betulus - L. - Fastigiata</td>\n",
              "      <td>NaN</td>\n",
              "      <td>Bosquet</td>\n",
              "      <td>G</td>\n",
              "      <td>100.0</td>\n",
              "      <td>1980</td>\n",
              "      <td>A</td>\n",
              "      <td>1600</td>\n",
              "      <td>H4</td>\n",
              "      <td>63.661977</td>\n",
              "      <td>C2</td>\n",
              "    </tr>\n",
              "    <tr>\n",
              "      <th>4</th>\n",
              "      <td>78551-Arbres-005</td>\n",
              "      <td>Saint Germain en Laye</td>\n",
              "      <td>Quartier 2 - Alsace - Pereire</td>\n",
              "      <td>Carrefour RN13</td>\n",
              "      <td>NaN</td>\n",
              "      <td>2</td>\n",
              "      <td>Carpinus</td>\n",
              "      <td>Betulus - L. - Fastigiata</td>\n",
              "      <td>NaN</td>\n",
              "      <td>Bosquet</td>\n",
              "      <td>G</td>\n",
              "      <td>100.0</td>\n",
              "      <td>1980</td>\n",
              "      <td>A</td>\n",
              "      <td>1600</td>\n",
              "      <td>H4</td>\n",
              "      <td>190.985932</td>\n",
              "      <td>C2</td>\n",
              "    </tr>\n",
              "  </tbody>\n",
              "</table>\n",
              "</div>\n",
              "      <button class=\"colab-df-convert\" onclick=\"convertToInteractive('df-519d82c5-e5a7-4076-98b6-ad42dd6a11ef')\"\n",
              "              title=\"Convert this dataframe to an interactive table.\"\n",
              "              style=\"display:none;\">\n",
              "        \n",
              "  <svg xmlns=\"http://www.w3.org/2000/svg\" height=\"24px\"viewBox=\"0 0 24 24\"\n",
              "       width=\"24px\">\n",
              "    <path d=\"M0 0h24v24H0V0z\" fill=\"none\"/>\n",
              "    <path d=\"M18.56 5.44l.94 2.06.94-2.06 2.06-.94-2.06-.94-.94-2.06-.94 2.06-2.06.94zm-11 1L8.5 8.5l.94-2.06 2.06-.94-2.06-.94L8.5 2.5l-.94 2.06-2.06.94zm10 10l.94 2.06.94-2.06 2.06-.94-2.06-.94-.94-2.06-.94 2.06-2.06.94z\"/><path d=\"M17.41 7.96l-1.37-1.37c-.4-.4-.92-.59-1.43-.59-.52 0-1.04.2-1.43.59L10.3 9.45l-7.72 7.72c-.78.78-.78 2.05 0 2.83L4 21.41c.39.39.9.59 1.41.59.51 0 1.02-.2 1.41-.59l7.78-7.78 2.81-2.81c.8-.78.8-2.07 0-2.86zM5.41 20L4 18.59l7.72-7.72 1.47 1.35L5.41 20z\"/>\n",
              "  </svg>\n",
              "      </button>\n",
              "      \n",
              "  <style>\n",
              "    .colab-df-container {\n",
              "      display:flex;\n",
              "      flex-wrap:wrap;\n",
              "      gap: 12px;\n",
              "    }\n",
              "\n",
              "    .colab-df-convert {\n",
              "      background-color: #E8F0FE;\n",
              "      border: none;\n",
              "      border-radius: 50%;\n",
              "      cursor: pointer;\n",
              "      display: none;\n",
              "      fill: #1967D2;\n",
              "      height: 32px;\n",
              "      padding: 0 0 0 0;\n",
              "      width: 32px;\n",
              "    }\n",
              "\n",
              "    .colab-df-convert:hover {\n",
              "      background-color: #E2EBFA;\n",
              "      box-shadow: 0px 1px 2px rgba(60, 64, 67, 0.3), 0px 1px 3px 1px rgba(60, 64, 67, 0.15);\n",
              "      fill: #174EA6;\n",
              "    }\n",
              "\n",
              "    [theme=dark] .colab-df-convert {\n",
              "      background-color: #3B4455;\n",
              "      fill: #D2E3FC;\n",
              "    }\n",
              "\n",
              "    [theme=dark] .colab-df-convert:hover {\n",
              "      background-color: #434B5C;\n",
              "      box-shadow: 0px 1px 3px 1px rgba(0, 0, 0, 0.15);\n",
              "      filter: drop-shadow(0px 1px 2px rgba(0, 0, 0, 0.3));\n",
              "      fill: #FFFFFF;\n",
              "    }\n",
              "  </style>\n",
              "\n",
              "      <script>\n",
              "        const buttonEl =\n",
              "          document.querySelector('#df-519d82c5-e5a7-4076-98b6-ad42dd6a11ef button.colab-df-convert');\n",
              "        buttonEl.style.display =\n",
              "          google.colab.kernel.accessAllowed ? 'block' : 'none';\n",
              "\n",
              "        async function convertToInteractive(key) {\n",
              "          const element = document.querySelector('#df-519d82c5-e5a7-4076-98b6-ad42dd6a11ef');\n",
              "          const dataTable =\n",
              "            await google.colab.kernel.invokeFunction('convertToInteractive',\n",
              "                                                     [key], {});\n",
              "          if (!dataTable) return;\n",
              "\n",
              "          const docLinkHtml = 'Like what you see? Visit the ' +\n",
              "            '<a target=\"_blank\" href=https://colab.research.google.com/notebooks/data_table.ipynb>data table notebook</a>'\n",
              "            + ' to learn more about interactive tables.';\n",
              "          element.innerHTML = '';\n",
              "          dataTable['output_type'] = 'display_data';\n",
              "          await google.colab.output.renderOutput(dataTable, element);\n",
              "          const docLink = document.createElement('div');\n",
              "          docLink.innerHTML = docLinkHtml;\n",
              "          element.appendChild(docLink);\n",
              "        }\n",
              "      </script>\n",
              "    </div>\n",
              "  </div>\n",
              "  "
            ],
            "text/plain": [
              "            TREE_ID           municipality                       district  \\\n",
              "0  78551-Arbres-001  Saint Germain en Laye  Quartier 2 - Alsace - Pereire   \n",
              "1  78551-Arbres-002  Saint Germain en Laye  Quartier 2 - Alsace - Pereire   \n",
              "2  78551-Arbres-003  Saint Germain en Laye  Quartier 2 - Alsace - Pereire   \n",
              "3  78551-Arbres-004  Saint Germain en Laye  Quartier 2 - Alsace - Pereire   \n",
              "4  78551-Arbres-005  Saint Germain en Laye  Quartier 2 - Alsace - Pereire   \n",
              "\n",
              "             site road_side  tree_number tree_genus  \\\n",
              "0  Carrefour RN13       NaN            7     Betula   \n",
              "1  Carrefour RN13       NaN            8     Betula   \n",
              "2  Carrefour RN13       NaN            9     Betula   \n",
              "3  Carrefour RN13       NaN            1   Carpinus   \n",
              "4  Carrefour RN13       NaN            2   Carpinus   \n",
              "\n",
              "                 tree_species  control situation soil_type  permeable_surf  \\\n",
              "0                        Alba      NaN    Groupe         P             5.0   \n",
              "1                        Alba      NaN    Groupe         P             5.0   \n",
              "2                        Alba      NaN    Groupe         P             5.0   \n",
              "3   Betulus - L. - Fastigiata      NaN   Bosquet         G           100.0   \n",
              "4   Betulus - L. - Fastigiata      NaN   Bosquet         G           100.0   \n",
              "\n",
              "   planting_date age_class  height height_class    diameter  \\\n",
              "0           2000         A    1000           H2   63.661977   \n",
              "1           2000         A    1000           H2   60.478878   \n",
              "2           2000         A    1000           H2   54.112681   \n",
              "3           1980         A    1600           H4   63.661977   \n",
              "4           1980         A    1600           H4  190.985932   \n",
              "\n",
              "  classification_diagnostic  \n",
              "0                        C2  \n",
              "1                        C2  \n",
              "2                        C2  \n",
              "3                        C2  \n",
              "4                        C2  "
            ]
          },
          "metadata": {},
          "execution_count": 4
        }
      ]
    },
    {
      "cell_type": "code",
      "source": [
        "dataset.info()"
      ],
      "metadata": {
        "colab": {
          "base_uri": "https://localhost:8080/"
        },
        "id": "6A-hKz797qIj",
        "outputId": "812f0869-b311-4124-d583-a297b2ccaf08"
      },
      "execution_count": null,
      "outputs": [
        {
          "output_type": "stream",
          "name": "stdout",
          "text": [
            "<class 'pandas.core.frame.DataFrame'>\n",
            "RangeIndex: 709 entries, 0 to 708\n",
            "Data columns (total 18 columns):\n",
            " #   Column                     Non-Null Count  Dtype  \n",
            "---  ------                     --------------  -----  \n",
            " 0   TREE_ID                    709 non-null    object \n",
            " 1   municipality               709 non-null    object \n",
            " 2   district                   709 non-null    object \n",
            " 3   site                       709 non-null    object \n",
            " 4   road_side                  545 non-null    object \n",
            " 5   tree_number                709 non-null    int64  \n",
            " 6   tree_genus                 709 non-null    object \n",
            " 7   tree_species               701 non-null    object \n",
            " 8   control                    11 non-null     float64\n",
            " 9   situation                  708 non-null    object \n",
            " 10  soil_type                  709 non-null    object \n",
            " 11  permeable_surf             709 non-null    float64\n",
            " 12  planting_date              709 non-null    int64  \n",
            " 13  age_class                  709 non-null    object \n",
            " 14  height                     709 non-null    int64  \n",
            " 15  height_class               709 non-null    object \n",
            " 16  diameter                   709 non-null    float64\n",
            " 17  classification_diagnostic  699 non-null    object \n",
            "dtypes: float64(3), int64(3), object(12)\n",
            "memory usage: 99.8+ KB\n"
          ]
        }
      ]
    },
    {
      "cell_type": "code",
      "source": [
        "dataset.describe()"
      ],
      "metadata": {
        "colab": {
          "base_uri": "https://localhost:8080/",
          "height": 300
        },
        "id": "OlpX5JyS5YE0",
        "outputId": "78a19323-9b8a-42d9-a80e-16645df35537"
      },
      "execution_count": null,
      "outputs": [
        {
          "output_type": "execute_result",
          "data": {
            "text/html": [
              "\n",
              "  <div id=\"df-f9ae118f-9d63-4361-8c3d-618c1b2088c9\">\n",
              "    <div class=\"colab-df-container\">\n",
              "      <div>\n",
              "<style scoped>\n",
              "    .dataframe tbody tr th:only-of-type {\n",
              "        vertical-align: middle;\n",
              "    }\n",
              "\n",
              "    .dataframe tbody tr th {\n",
              "        vertical-align: top;\n",
              "    }\n",
              "\n",
              "    .dataframe thead th {\n",
              "        text-align: right;\n",
              "    }\n",
              "</style>\n",
              "<table border=\"1\" class=\"dataframe\">\n",
              "  <thead>\n",
              "    <tr style=\"text-align: right;\">\n",
              "      <th></th>\n",
              "      <th>tree_number</th>\n",
              "      <th>control</th>\n",
              "      <th>permeable_surf</th>\n",
              "      <th>planting_date</th>\n",
              "      <th>height</th>\n",
              "      <th>diameter</th>\n",
              "    </tr>\n",
              "  </thead>\n",
              "  <tbody>\n",
              "    <tr>\n",
              "      <th>count</th>\n",
              "      <td>709.000000</td>\n",
              "      <td>11.0</td>\n",
              "      <td>709.000000</td>\n",
              "      <td>709.000000</td>\n",
              "      <td>709.000000</td>\n",
              "      <td>709.000000</td>\n",
              "    </tr>\n",
              "    <tr>\n",
              "      <th>mean</th>\n",
              "      <td>21.843441</td>\n",
              "      <td>1.0</td>\n",
              "      <td>7.198872</td>\n",
              "      <td>1996.530324</td>\n",
              "      <td>692.524683</td>\n",
              "      <td>45.520559</td>\n",
              "    </tr>\n",
              "    <tr>\n",
              "      <th>std</th>\n",
              "      <td>17.787176</td>\n",
              "      <td>0.0</td>\n",
              "      <td>21.032527</td>\n",
              "      <td>69.052103</td>\n",
              "      <td>333.023261</td>\n",
              "      <td>27.141451</td>\n",
              "    </tr>\n",
              "    <tr>\n",
              "      <th>min</th>\n",
              "      <td>1.000000</td>\n",
              "      <td>1.0</td>\n",
              "      <td>0.000000</td>\n",
              "      <td>200.000000</td>\n",
              "      <td>250.000000</td>\n",
              "      <td>12.732395</td>\n",
              "    </tr>\n",
              "    <tr>\n",
              "      <th>25%</th>\n",
              "      <td>7.000000</td>\n",
              "      <td>1.0</td>\n",
              "      <td>1.000000</td>\n",
              "      <td>1980.000000</td>\n",
              "      <td>500.000000</td>\n",
              "      <td>28.647890</td>\n",
              "    </tr>\n",
              "    <tr>\n",
              "      <th>50%</th>\n",
              "      <td>17.000000</td>\n",
              "      <td>1.0</td>\n",
              "      <td>1.500000</td>\n",
              "      <td>2000.000000</td>\n",
              "      <td>600.000000</td>\n",
              "      <td>38.197186</td>\n",
              "    </tr>\n",
              "    <tr>\n",
              "      <th>75%</th>\n",
              "      <td>33.000000</td>\n",
              "      <td>1.0</td>\n",
              "      <td>4.000000</td>\n",
              "      <td>2010.000000</td>\n",
              "      <td>800.000000</td>\n",
              "      <td>57.295780</td>\n",
              "    </tr>\n",
              "    <tr>\n",
              "      <th>max</th>\n",
              "      <td>74.000000</td>\n",
              "      <td>1.0</td>\n",
              "      <td>100.000000</td>\n",
              "      <td>2019.000000</td>\n",
              "      <td>2500.000000</td>\n",
              "      <td>222.816920</td>\n",
              "    </tr>\n",
              "  </tbody>\n",
              "</table>\n",
              "</div>\n",
              "      <button class=\"colab-df-convert\" onclick=\"convertToInteractive('df-f9ae118f-9d63-4361-8c3d-618c1b2088c9')\"\n",
              "              title=\"Convert this dataframe to an interactive table.\"\n",
              "              style=\"display:none;\">\n",
              "        \n",
              "  <svg xmlns=\"http://www.w3.org/2000/svg\" height=\"24px\"viewBox=\"0 0 24 24\"\n",
              "       width=\"24px\">\n",
              "    <path d=\"M0 0h24v24H0V0z\" fill=\"none\"/>\n",
              "    <path d=\"M18.56 5.44l.94 2.06.94-2.06 2.06-.94-2.06-.94-.94-2.06-.94 2.06-2.06.94zm-11 1L8.5 8.5l.94-2.06 2.06-.94-2.06-.94L8.5 2.5l-.94 2.06-2.06.94zm10 10l.94 2.06.94-2.06 2.06-.94-2.06-.94-.94-2.06-.94 2.06-2.06.94z\"/><path d=\"M17.41 7.96l-1.37-1.37c-.4-.4-.92-.59-1.43-.59-.52 0-1.04.2-1.43.59L10.3 9.45l-7.72 7.72c-.78.78-.78 2.05 0 2.83L4 21.41c.39.39.9.59 1.41.59.51 0 1.02-.2 1.41-.59l7.78-7.78 2.81-2.81c.8-.78.8-2.07 0-2.86zM5.41 20L4 18.59l7.72-7.72 1.47 1.35L5.41 20z\"/>\n",
              "  </svg>\n",
              "      </button>\n",
              "      \n",
              "  <style>\n",
              "    .colab-df-container {\n",
              "      display:flex;\n",
              "      flex-wrap:wrap;\n",
              "      gap: 12px;\n",
              "    }\n",
              "\n",
              "    .colab-df-convert {\n",
              "      background-color: #E8F0FE;\n",
              "      border: none;\n",
              "      border-radius: 50%;\n",
              "      cursor: pointer;\n",
              "      display: none;\n",
              "      fill: #1967D2;\n",
              "      height: 32px;\n",
              "      padding: 0 0 0 0;\n",
              "      width: 32px;\n",
              "    }\n",
              "\n",
              "    .colab-df-convert:hover {\n",
              "      background-color: #E2EBFA;\n",
              "      box-shadow: 0px 1px 2px rgba(60, 64, 67, 0.3), 0px 1px 3px 1px rgba(60, 64, 67, 0.15);\n",
              "      fill: #174EA6;\n",
              "    }\n",
              "\n",
              "    [theme=dark] .colab-df-convert {\n",
              "      background-color: #3B4455;\n",
              "      fill: #D2E3FC;\n",
              "    }\n",
              "\n",
              "    [theme=dark] .colab-df-convert:hover {\n",
              "      background-color: #434B5C;\n",
              "      box-shadow: 0px 1px 3px 1px rgba(0, 0, 0, 0.15);\n",
              "      filter: drop-shadow(0px 1px 2px rgba(0, 0, 0, 0.3));\n",
              "      fill: #FFFFFF;\n",
              "    }\n",
              "  </style>\n",
              "\n",
              "      <script>\n",
              "        const buttonEl =\n",
              "          document.querySelector('#df-f9ae118f-9d63-4361-8c3d-618c1b2088c9 button.colab-df-convert');\n",
              "        buttonEl.style.display =\n",
              "          google.colab.kernel.accessAllowed ? 'block' : 'none';\n",
              "\n",
              "        async function convertToInteractive(key) {\n",
              "          const element = document.querySelector('#df-f9ae118f-9d63-4361-8c3d-618c1b2088c9');\n",
              "          const dataTable =\n",
              "            await google.colab.kernel.invokeFunction('convertToInteractive',\n",
              "                                                     [key], {});\n",
              "          if (!dataTable) return;\n",
              "\n",
              "          const docLinkHtml = 'Like what you see? Visit the ' +\n",
              "            '<a target=\"_blank\" href=https://colab.research.google.com/notebooks/data_table.ipynb>data table notebook</a>'\n",
              "            + ' to learn more about interactive tables.';\n",
              "          element.innerHTML = '';\n",
              "          dataTable['output_type'] = 'display_data';\n",
              "          await google.colab.output.renderOutput(dataTable, element);\n",
              "          const docLink = document.createElement('div');\n",
              "          docLink.innerHTML = docLinkHtml;\n",
              "          element.appendChild(docLink);\n",
              "        }\n",
              "      </script>\n",
              "    </div>\n",
              "  </div>\n",
              "  "
            ],
            "text/plain": [
              "       tree_number  control  permeable_surf  planting_date       height  \\\n",
              "count   709.000000     11.0      709.000000     709.000000   709.000000   \n",
              "mean     21.843441      1.0        7.198872    1996.530324   692.524683   \n",
              "std      17.787176      0.0       21.032527      69.052103   333.023261   \n",
              "min       1.000000      1.0        0.000000     200.000000   250.000000   \n",
              "25%       7.000000      1.0        1.000000    1980.000000   500.000000   \n",
              "50%      17.000000      1.0        1.500000    2000.000000   600.000000   \n",
              "75%      33.000000      1.0        4.000000    2010.000000   800.000000   \n",
              "max      74.000000      1.0      100.000000    2019.000000  2500.000000   \n",
              "\n",
              "         diameter  \n",
              "count  709.000000  \n",
              "mean    45.520559  \n",
              "std     27.141451  \n",
              "min     12.732395  \n",
              "25%     28.647890  \n",
              "50%     38.197186  \n",
              "75%     57.295780  \n",
              "max    222.816920  "
            ]
          },
          "metadata": {},
          "execution_count": 6
        }
      ]
    },
    {
      "cell_type": "code",
      "source": [
        "cor_matrix = dataset.corr()\n",
        "cor_matrix"
      ],
      "metadata": {
        "colab": {
          "base_uri": "https://localhost:8080/",
          "height": 237
        },
        "id": "ztQaHHZ_8ayY",
        "outputId": "fd9849e7-6c6d-4158-d68f-f6ffad597e63"
      },
      "execution_count": null,
      "outputs": [
        {
          "output_type": "execute_result",
          "data": {
            "text/html": [
              "\n",
              "  <div id=\"df-1a7675ae-4fc7-4549-a651-952efd5cdb58\">\n",
              "    <div class=\"colab-df-container\">\n",
              "      <div>\n",
              "<style scoped>\n",
              "    .dataframe tbody tr th:only-of-type {\n",
              "        vertical-align: middle;\n",
              "    }\n",
              "\n",
              "    .dataframe tbody tr th {\n",
              "        vertical-align: top;\n",
              "    }\n",
              "\n",
              "    .dataframe thead th {\n",
              "        text-align: right;\n",
              "    }\n",
              "</style>\n",
              "<table border=\"1\" class=\"dataframe\">\n",
              "  <thead>\n",
              "    <tr style=\"text-align: right;\">\n",
              "      <th></th>\n",
              "      <th>tree_number</th>\n",
              "      <th>control</th>\n",
              "      <th>permeable_surf</th>\n",
              "      <th>planting_date</th>\n",
              "      <th>height</th>\n",
              "      <th>diameter</th>\n",
              "    </tr>\n",
              "  </thead>\n",
              "  <tbody>\n",
              "    <tr>\n",
              "      <th>tree_number</th>\n",
              "      <td>1.000000</td>\n",
              "      <td>NaN</td>\n",
              "      <td>-0.217633</td>\n",
              "      <td>-0.007850</td>\n",
              "      <td>-0.164903</td>\n",
              "      <td>-0.109965</td>\n",
              "    </tr>\n",
              "    <tr>\n",
              "      <th>control</th>\n",
              "      <td>NaN</td>\n",
              "      <td>NaN</td>\n",
              "      <td>NaN</td>\n",
              "      <td>NaN</td>\n",
              "      <td>NaN</td>\n",
              "      <td>NaN</td>\n",
              "    </tr>\n",
              "    <tr>\n",
              "      <th>permeable_surf</th>\n",
              "      <td>-0.217633</td>\n",
              "      <td>NaN</td>\n",
              "      <td>1.000000</td>\n",
              "      <td>-0.071507</td>\n",
              "      <td>0.604309</td>\n",
              "      <td>0.408231</td>\n",
              "    </tr>\n",
              "    <tr>\n",
              "      <th>planting_date</th>\n",
              "      <td>-0.007850</td>\n",
              "      <td>NaN</td>\n",
              "      <td>-0.071507</td>\n",
              "      <td>1.000000</td>\n",
              "      <td>-0.090306</td>\n",
              "      <td>-0.155416</td>\n",
              "    </tr>\n",
              "    <tr>\n",
              "      <th>height</th>\n",
              "      <td>-0.164903</td>\n",
              "      <td>NaN</td>\n",
              "      <td>0.604309</td>\n",
              "      <td>-0.090306</td>\n",
              "      <td>1.000000</td>\n",
              "      <td>0.759239</td>\n",
              "    </tr>\n",
              "    <tr>\n",
              "      <th>diameter</th>\n",
              "      <td>-0.109965</td>\n",
              "      <td>NaN</td>\n",
              "      <td>0.408231</td>\n",
              "      <td>-0.155416</td>\n",
              "      <td>0.759239</td>\n",
              "      <td>1.000000</td>\n",
              "    </tr>\n",
              "  </tbody>\n",
              "</table>\n",
              "</div>\n",
              "      <button class=\"colab-df-convert\" onclick=\"convertToInteractive('df-1a7675ae-4fc7-4549-a651-952efd5cdb58')\"\n",
              "              title=\"Convert this dataframe to an interactive table.\"\n",
              "              style=\"display:none;\">\n",
              "        \n",
              "  <svg xmlns=\"http://www.w3.org/2000/svg\" height=\"24px\"viewBox=\"0 0 24 24\"\n",
              "       width=\"24px\">\n",
              "    <path d=\"M0 0h24v24H0V0z\" fill=\"none\"/>\n",
              "    <path d=\"M18.56 5.44l.94 2.06.94-2.06 2.06-.94-2.06-.94-.94-2.06-.94 2.06-2.06.94zm-11 1L8.5 8.5l.94-2.06 2.06-.94-2.06-.94L8.5 2.5l-.94 2.06-2.06.94zm10 10l.94 2.06.94-2.06 2.06-.94-2.06-.94-.94-2.06-.94 2.06-2.06.94z\"/><path d=\"M17.41 7.96l-1.37-1.37c-.4-.4-.92-.59-1.43-.59-.52 0-1.04.2-1.43.59L10.3 9.45l-7.72 7.72c-.78.78-.78 2.05 0 2.83L4 21.41c.39.39.9.59 1.41.59.51 0 1.02-.2 1.41-.59l7.78-7.78 2.81-2.81c.8-.78.8-2.07 0-2.86zM5.41 20L4 18.59l7.72-7.72 1.47 1.35L5.41 20z\"/>\n",
              "  </svg>\n",
              "      </button>\n",
              "      \n",
              "  <style>\n",
              "    .colab-df-container {\n",
              "      display:flex;\n",
              "      flex-wrap:wrap;\n",
              "      gap: 12px;\n",
              "    }\n",
              "\n",
              "    .colab-df-convert {\n",
              "      background-color: #E8F0FE;\n",
              "      border: none;\n",
              "      border-radius: 50%;\n",
              "      cursor: pointer;\n",
              "      display: none;\n",
              "      fill: #1967D2;\n",
              "      height: 32px;\n",
              "      padding: 0 0 0 0;\n",
              "      width: 32px;\n",
              "    }\n",
              "\n",
              "    .colab-df-convert:hover {\n",
              "      background-color: #E2EBFA;\n",
              "      box-shadow: 0px 1px 2px rgba(60, 64, 67, 0.3), 0px 1px 3px 1px rgba(60, 64, 67, 0.15);\n",
              "      fill: #174EA6;\n",
              "    }\n",
              "\n",
              "    [theme=dark] .colab-df-convert {\n",
              "      background-color: #3B4455;\n",
              "      fill: #D2E3FC;\n",
              "    }\n",
              "\n",
              "    [theme=dark] .colab-df-convert:hover {\n",
              "      background-color: #434B5C;\n",
              "      box-shadow: 0px 1px 3px 1px rgba(0, 0, 0, 0.15);\n",
              "      filter: drop-shadow(0px 1px 2px rgba(0, 0, 0, 0.3));\n",
              "      fill: #FFFFFF;\n",
              "    }\n",
              "  </style>\n",
              "\n",
              "      <script>\n",
              "        const buttonEl =\n",
              "          document.querySelector('#df-1a7675ae-4fc7-4549-a651-952efd5cdb58 button.colab-df-convert');\n",
              "        buttonEl.style.display =\n",
              "          google.colab.kernel.accessAllowed ? 'block' : 'none';\n",
              "\n",
              "        async function convertToInteractive(key) {\n",
              "          const element = document.querySelector('#df-1a7675ae-4fc7-4549-a651-952efd5cdb58');\n",
              "          const dataTable =\n",
              "            await google.colab.kernel.invokeFunction('convertToInteractive',\n",
              "                                                     [key], {});\n",
              "          if (!dataTable) return;\n",
              "\n",
              "          const docLinkHtml = 'Like what you see? Visit the ' +\n",
              "            '<a target=\"_blank\" href=https://colab.research.google.com/notebooks/data_table.ipynb>data table notebook</a>'\n",
              "            + ' to learn more about interactive tables.';\n",
              "          element.innerHTML = '';\n",
              "          dataTable['output_type'] = 'display_data';\n",
              "          await google.colab.output.renderOutput(dataTable, element);\n",
              "          const docLink = document.createElement('div');\n",
              "          docLink.innerHTML = docLinkHtml;\n",
              "          element.appendChild(docLink);\n",
              "        }\n",
              "      </script>\n",
              "    </div>\n",
              "  </div>\n",
              "  "
            ],
            "text/plain": [
              "                tree_number  control  permeable_surf  planting_date    height  \\\n",
              "tree_number        1.000000      NaN       -0.217633      -0.007850 -0.164903   \n",
              "control                 NaN      NaN             NaN            NaN       NaN   \n",
              "permeable_surf    -0.217633      NaN        1.000000      -0.071507  0.604309   \n",
              "planting_date     -0.007850      NaN       -0.071507       1.000000 -0.090306   \n",
              "height            -0.164903      NaN        0.604309      -0.090306  1.000000   \n",
              "diameter          -0.109965      NaN        0.408231      -0.155416  0.759239   \n",
              "\n",
              "                diameter  \n",
              "tree_number    -0.109965  \n",
              "control              NaN  \n",
              "permeable_surf  0.408231  \n",
              "planting_date  -0.155416  \n",
              "height          0.759239  \n",
              "diameter        1.000000  "
            ]
          },
          "metadata": {},
          "execution_count": 7
        }
      ]
    },
    {
      "cell_type": "markdown",
      "source": [
        "Handling the missing variables by imputing it with the highest occurences"
      ],
      "metadata": {
        "id": "9viMdW1XCyyJ"
      }
    },
    {
      "cell_type": "code",
      "source": [
        "imp_mode = SimpleImputer(missing_values=np.nan, strategy=\"most_frequent\")\n",
        "dataset=imp_mode.fit_transform(dataset)\n",
        "column_names=['TREE_ID','municipality','district','site','road_side',\n",
        "              'tree_number','tree_genus','tree_species','control','situation',\n",
        "              'soil_type','permeable_surf','planting_date','age_class','height',\n",
        "              'height_class',\t'diameter','classification_diagnostic']\n",
        "df_imp=pd.DataFrame(dataset,columns=column_names)\n",
        "df_imp['classification_diagnostic'].value_counts()"
      ],
      "metadata": {
        "colab": {
          "base_uri": "https://localhost:8080/"
        },
        "id": "rTrum3WKDBbG",
        "outputId": "fe2201cb-0760-4d63-c5d2-898ea7e84067"
      },
      "execution_count": null,
      "outputs": [
        {
          "output_type": "execute_result",
          "data": {
            "text/plain": [
              "C2    408\n",
              "C1    237\n",
              "C3     43\n",
              "C4     11\n",
              "C5     10\n",
              "Name: classification_diagnostic, dtype: int64"
            ]
          },
          "metadata": {},
          "execution_count": 5
        }
      ]
    },
    {
      "cell_type": "code",
      "source": [
        "#Features X\n",
        "X=df_imp.iloc[:,:17]\n",
        "#Labels (Target variable)\n",
        "y=df_imp[\"classification_diagnostic\"]"
      ],
      "metadata": {
        "id": "qpudLGk5JaSU"
      },
      "execution_count": null,
      "outputs": []
    },
    {
      "cell_type": "markdown",
      "source": [
        "Preprocessing "
      ],
      "metadata": {
        "id": "UyOhWgkeSafv"
      }
    },
    {
      "cell_type": "code",
      "source": [
        "#cartegorical data \n",
        "enc = OneHotEncoder(handle_unknown=\"ignore\",sparse=False)\n",
        "X_t=enc.fit_transform(X)\n",
        "\n",
        "#label data\n",
        "label= preprocessing.LabelEncoder()\n",
        "y_t=label.fit_transform(y)\n",
        "\n",
        "\n",
        "df1 = pd.DataFrame(X_t)\n",
        "df2 = pd.DataFrame(y_t)\n",
        "\n",
        "#SCALING THE FEATURE\n",
        "scaler = preprocessing.StandardScaler().fit(X_t)\n",
        "X_scaled = scaler.transform(X_t)"
      ],
      "metadata": {
        "id": "eJcPxmEpRRVL"
      },
      "execution_count": null,
      "outputs": []
    },
    {
      "cell_type": "code",
      "source": [
        "#print(scaler.mean_)\n",
        "#print(scaler.scale_)\n",
        "#print(X_scaled)"
      ],
      "metadata": {
        "id": "Wq3yKBNMlZi-"
      },
      "execution_count": null,
      "outputs": []
    },
    {
      "cell_type": "markdown",
      "source": [
        "# DATA SPLIT"
      ],
      "metadata": {
        "id": "TByusz1CQ2kg"
      }
    },
    {
      "cell_type": "code",
      "source": [
        "X_train, X_test, y_train, y_test = train_test_split(X_t, y_t, test_size=0.2, random_state=0)\n",
        "print(y_train.shape)\n",
        "print(y_train.shape)\n",
        "print(X_test.shape)\n",
        "print(y_test.shape)"
      ],
      "metadata": {
        "colab": {
          "base_uri": "https://localhost:8080/"
        },
        "id": "gMu49ij_Q91i",
        "outputId": "775591f4-3433-4567-bc14-288ed549b371"
      },
      "execution_count": null,
      "outputs": [
        {
          "output_type": "stream",
          "name": "stdout",
          "text": [
            "(567,)\n",
            "(567,)\n",
            "(142, 989)\n",
            "(142,)\n"
          ]
        }
      ]
    },
    {
      "cell_type": "markdown",
      "source": [
        "# LOGISTIC REGRESSION"
      ],
      "metadata": {
        "id": "PhZuzaX4On6W"
      }
    },
    {
      "cell_type": "code",
      "source": [
        "#using the split training set\n",
        "# define model\n",
        "model = LogisticRegression()\n",
        "\n",
        "# define the ovr strategy\n",
        "ovr1 = OneVsRestClassifier(model)\n",
        "# fit model\n",
        "ovr1.fit(X_train, y_train)\n",
        "# make predictions\n",
        "yhat = ovr1.predict(X_test)\n",
        "print(yhat)\n",
        "#Acuracy\n",
        "print(\"model score: %.3f\" % ovr1.score(X_test, y_test))"
      ],
      "metadata": {
        "colab": {
          "base_uri": "https://localhost:8080/"
        },
        "id": "zuA43AnXO1Qn",
        "outputId": "8d3f406e-db99-4ca0-e069-d12946e0a746"
      },
      "execution_count": null,
      "outputs": [
        {
          "output_type": "stream",
          "name": "stdout",
          "text": [
            "[1 1 0 0 1 1 1 0 0 1 1 0 0 1 1 0 1 1 1 1 1 1 1 1 1 2 1 0 0 0 0 1 1 1 0 1 1\n",
            " 1 0 1 1 0 1 0 1 1 1 1 1 1 0 1 0 1 1 1 1 1 0 0 1 1 1 1 0 1 1 0 1 0 0 1 1 1\n",
            " 0 1 1 0 1 0 1 4 1 0 0 1 1 0 1 0 0 2 1 1 2 1 0 1 0 0 1 1 0 1 0 0 1 1 0 1 0\n",
            " 1 1 1 0 0 1 0 1 0 0 1 1 1 1 1 1 2 0 1 0 1 1 1 0 0 0 1 1 1 1 1]\n",
            "model score: 0.775\n"
          ]
        }
      ]
    },
    {
      "cell_type": "code",
      "source": [
        "from sklearn.metrics import confusion_matrix,ConfusionMatrixDisplay\n",
        "predictions = ovr1.predict(X_test)\n",
        "cm = confusion_matrix(y_test, yhat, labels=ovr1.classes_)\n",
        "disp = ConfusionMatrixDisplay(confusion_matrix=cm, display_labels=ovr1.classes_)\n",
        "disp.plot()\n",
        "plt.show()"
      ],
      "metadata": {
        "colab": {
          "base_uri": "https://localhost:8080/",
          "height": 279
        },
        "id": "fI32LxrzWNOG",
        "outputId": "ad46f6fe-c731-47c0-a6f6-58be7eb2920a"
      },
      "execution_count": null,
      "outputs": [
        {
          "output_type": "display_data",
          "data": {
            "image/png": "[encoded data removed]",
            "text/plain": [
              "<Figure size 432x288 with 2 Axes>"
            ]
          },
          "metadata": {
            "needs_background": "light"
          }
        }
      ]
    },
    {
      "cell_type": "markdown",
      "source": [
        "Because of the imbalanced label,we consider other metrics, we  Compute precision, recall, F-measure and ROC below."
      ],
      "metadata": {
        "id": "rsZI6oeRZfNo"
      }
    },
    {
      "cell_type": "code",
      "source": [
        "from sklearn.metrics import balanced_accuracy_score\n",
        "balanced_accuracy_score(y_test, yhat)"
      ],
      "metadata": {
        "colab": {
          "base_uri": "https://localhost:8080/"
        },
        "id": "5W2sh8FbetyJ",
        "outputId": "2cacea6e-a54a-468d-e8a4-c52d27c9f9a3"
      },
      "execution_count": null,
      "outputs": [
        {
          "output_type": "execute_result",
          "data": {
            "text/plain": [
              "0.3536888643271622"
            ]
          },
          "metadata": {},
          "execution_count": 15
        }
      ]
    },
    {
      "cell_type": "markdown",
      "source": [
        "PRECISION,RECALL AND F1-SCORE"
      ],
      "metadata": {
        "id": "vzQ3IST9PYW_"
      }
    },
    {
      "cell_type": "markdown",
      "source": [
        "Precision"
      ],
      "metadata": {
        "id": "JtcXA_DRcE02"
      }
    },
    {
      "cell_type": "code",
      "source": [
        "from sklearn.metrics import precision_score,recall_score\n",
        "precision_score(y_test, yhat, average=None,zero_division=1)"
      ],
      "metadata": {
        "colab": {
          "base_uri": "https://localhost:8080/"
        },
        "id": "TMkIc5LVcDVa",
        "outputId": "e14bc729-4cf0-4f55-f8d4-05fd703c7829"
      },
      "execution_count": null,
      "outputs": [
        {
          "output_type": "execute_result",
          "data": {
            "text/plain": [
              "array([0.83673469, 0.78409091, 0.        , 1.        , 0.        ])"
            ]
          },
          "metadata": {},
          "execution_count": 17
        }
      ]
    },
    {
      "cell_type": "markdown",
      "source": [
        "Recall"
      ],
      "metadata": {
        "id": "dbgBgujMcv_K"
      }
    },
    {
      "cell_type": "code",
      "source": [
        "recall_score(y_test, yhat, average=None, zero_division=1)"
      ],
      "metadata": {
        "colab": {
          "base_uri": "https://localhost:8080/"
        },
        "id": "p8q1gAzbcvSs",
        "outputId": "609b0183-8c2d-4546-bf9b-f1492c09e183"
      },
      "execution_count": null,
      "outputs": [
        {
          "output_type": "execute_result",
          "data": {
            "text/plain": [
              "array([0.87234043, 0.8961039 , 0.        , 0.        , 0.        ])"
            ]
          },
          "metadata": {},
          "execution_count": 18
        }
      ]
    },
    {
      "cell_type": "markdown",
      "source": [
        "F1 score"
      ],
      "metadata": {
        "id": "yO_yKod2dOKh"
      }
    },
    {
      "cell_type": "code",
      "source": [
        "print(f1_score(y_test, yhat, average=None))"
      ],
      "metadata": {
        "colab": {
          "base_uri": "https://localhost:8080/"
        },
        "id": "_VeqR-BXljzE",
        "outputId": "265c233c-959e-4496-df65-df42b9e06022"
      },
      "execution_count": null,
      "outputs": [
        {
          "output_type": "stream",
          "name": "stdout",
          "text": [
            "[0.85416667 0.83636364 0.         0.         0.        ]\n"
          ]
        }
      ]
    },
    {
      "cell_type": "markdown",
      "source": [
        "In order to avoid variance problem: a situation where our accuracy obtained on one test is very different to accuracy obtained on another test set using the same algorithm. we consider  consider the method of cross validation,this method ensure that every set is atleast used once for training and once for testing set,the final result is the average of results obtained using all folds,this way we get rid of the variance using the standard deviation of the results obtained from each fold.\n",
        "\n",
        "\n",
        "We also used the Grid search parameter selection since random selection of Hyperparameter can be exhaustive, we used this method to automatically select the best parameter for our model.Though grid search can be very slow owing to the potential huge number of combinations to test."
      ],
      "metadata": {
        "id": "Su-2DwoBeLyQ"
      }
    },
    {
      "cell_type": "code",
      "source": [
        "#using the grid searchCV\n",
        "#define models and parameters of lOGISTIC REGRESSION\n",
        "solvers = ['newton-cg', 'lbfgs', 'liblinear'] #it allow us to see useful differences in performance or convergence with different solvers (solver).\n",
        "penalty = ['l2']  #Regularization (penalty) \n",
        "c_values = [100, 10, 1.0, 0.1, 0.01] #The C parameter controls the penality strength\n",
        "model = LogisticRegression(multi_class='ovr')\n",
        "# define grid search\n",
        "grid = dict(solver=solvers,penalty=penalty,C=c_values)\n",
        "cv = RepeatedStratifiedKFold(n_splits=10, n_repeats=3, random_state=1)\n",
        "grid_search = GridSearchCV(estimator=model, param_grid=grid, n_jobs=-1, cv=cv, scoring='accuracy',error_score=0)\n",
        "grid_result = grid_search.fit(X_scaled, y_t)\n",
        "# summarize results\n",
        "print(\"Best: %f using %s\" % (grid_result.best_score_, grid_result.best_params_))\n",
        "means = grid_result.cv_results_['mean_test_score']\n",
        "stds = grid_result.cv_results_['std_test_score']\n",
        "params = grid_result.cv_results_['params']\n",
        "for mean, stdev, param in zip(means, stds, params):\n",
        "    print(\"%f (%f) with: %r\" % (mean, stdev, param))"
      ],
      "metadata": {
        "colab": {
          "base_uri": "https://localhost:8080/"
        },
        "id": "5Hs4bMelSKim",
        "outputId": "ebae443e-1cca-414c-8a26-b3f17aa353ab"
      },
      "execution_count": null,
      "outputs": [
        {
          "output_type": "stream",
          "name": "stdout",
          "text": [
            "Best: 0.766311 using {'C': 100, 'penalty': 'l2', 'solver': 'lbfgs'}\n",
            "0.765842 (0.034798) with: {'C': 100, 'penalty': 'l2', 'solver': 'newton-cg'}\n",
            "0.766311 (0.035008) with: {'C': 100, 'penalty': 'l2', 'solver': 'lbfgs'}\n",
            "0.720268 (0.043202) with: {'C': 100, 'penalty': 'l2', 'solver': 'liblinear'}\n",
            "0.764903 (0.036228) with: {'C': 10, 'penalty': 'l2', 'solver': 'newton-cg'}\n",
            "0.764903 (0.036228) with: {'C': 10, 'penalty': 'l2', 'solver': 'lbfgs'}\n",
            "0.721677 (0.042884) with: {'C': 10, 'penalty': 'l2', 'solver': 'liblinear'}\n",
            "0.763964 (0.034842) with: {'C': 1.0, 'penalty': 'l2', 'solver': 'newton-cg'}\n",
            "0.763964 (0.034842) with: {'C': 1.0, 'penalty': 'l2', 'solver': 'lbfgs'}\n",
            "0.723085 (0.043895) with: {'C': 1.0, 'penalty': 'l2', 'solver': 'liblinear'}\n",
            "0.765372 (0.036442) with: {'C': 0.1, 'penalty': 'l2', 'solver': 'newton-cg'}\n",
            "0.765372 (0.036442) with: {'C': 0.1, 'penalty': 'l2', 'solver': 'lbfgs'}\n",
            "0.725433 (0.045287) with: {'C': 0.1, 'penalty': 'l2', 'solver': 'liblinear'}\n",
            "0.763970 (0.038272) with: {'C': 0.01, 'penalty': 'l2', 'solver': 'newton-cg'}\n",
            "0.763970 (0.038272) with: {'C': 0.01, 'penalty': 'l2', 'solver': 'lbfgs'}\n",
            "0.728256 (0.047022) with: {'C': 0.01, 'penalty': 'l2', 'solver': 'liblinear'}\n"
          ]
        }
      ]
    },
    {
      "cell_type": "markdown",
      "source": [
        "**LINEARSVM**"
      ],
      "metadata": {
        "id": "vcbO4BuZXEHB"
      }
    },
    {
      "cell_type": "code",
      "source": [
        "X_train, X_test, y_train, y_test = train_test_split(X_t, y_t, test_size=0.2, random_state=0)\n",
        "# Run classifier\n",
        "classifier = OneVsRestClassifier(SVC(kernel='linear', probability=True))\n",
        "clf=classifier.fit(X_train, y_train)\n",
        "print(\"model score: %.3f\" % classifier.score(X_test, y_test))\n",
        "yhat=classifier.predict(X_test)\n",
        "print(yhat)\n",
        "y_score = clf.decision_function(X_test)"
      ],
      "metadata": {
        "colab": {
          "base_uri": "https://localhost:8080/"
        },
        "id": "csvC36T7VaJM",
        "outputId": "528e45e7-863d-4257-b65c-fef700e46c94"
      },
      "execution_count": null,
      "outputs": [
        {
          "output_type": "stream",
          "name": "stdout",
          "text": [
            "model score: 0.789\n",
            "[1 2 0 0 1 1 0 0 0 1 1 0 0 1 1 0 1 1 0 1 1 0 1 1 1 2 1 0 1 0 0 1 4 1 0 1 1\n",
            " 1 0 1 1 0 1 0 1 1 1 1 1 1 0 1 0 1 3 1 1 1 0 0 1 1 1 1 0 1 1 0 1 0 0 1 1 1\n",
            " 0 1 0 0 1 0 1 4 1 0 0 1 1 0 1 0 0 2 1 1 2 1 0 1 0 0 1 1 0 1 0 0 1 1 0 1 0\n",
            " 1 1 1 0 0 0 0 1 0 0 1 1 1 0 1 1 2 0 1 0 1 2 1 0 0 0 1 1 1 1 1]\n"
          ]
        }
      ]
    },
    {
      "cell_type": "code",
      "source": [
        "cm = confusion_matrix(y_test, yhat, labels=classifier.classes_)\n",
        "disp = ConfusionMatrixDisplay(confusion_matrix=cm, display_labels=classifier.classes_)\n",
        "disp.plot()\n",
        "plt.show()"
      ],
      "metadata": {
        "colab": {
          "base_uri": "https://localhost:8080/",
          "height": 279
        },
        "id": "2XxNplIgVlzU",
        "outputId": "909d83f3-c334-41e5-e0d5-39041c5e72fa"
      },
      "execution_count": null,
      "outputs": [
        {
          "output_type": "display_data",
          "data": {
            "image/png": "[encoded data removed]",
            "text/plain": [
              "<Figure size 432x288 with 2 Axes>"
            ]
          },
          "metadata": {
            "needs_background": "light"
          }
        }
      ]
    },
    {
      "cell_type": "code",
      "source": [
        "from sklearn.metrics import precision_score,recall_score\n",
        "print(precision_score(y_test, yhat, average=None,zero_division=1))\n",
        "print(recall_score(y_test, yhat, average=None, zero_division=1))\n",
        "print(f1_score(y_test, yhat, average=None))"
      ],
      "metadata": {
        "colab": {
          "base_uri": "https://localhost:8080/"
        },
        "id": "z9vsjm3hVqG4",
        "outputId": "5ab6208f-c94e-40f5-97d2-128c6eafb821"
      },
      "execution_count": null,
      "outputs": [
        {
          "output_type": "stream",
          "name": "stdout",
          "text": [
            "[0.83333333 0.83544304 0.         0.         0.5       ]\n",
            "[0.95744681 0.85714286 0.         0.         0.33333333]\n",
            "[0.89108911 0.84615385 0.         0.         0.4       ]\n"
          ]
        }
      ]
    },
    {
      "cell_type": "markdown",
      "source": [
        "KERNELIZED SUPPORT VECTOR"
      ],
      "metadata": {
        "id": "rCm_3RF2VIX_"
      }
    },
    {
      "cell_type": "markdown",
      "source": [
        "The SVM algorithm provides a large number of hyperparameters to tune.\n",
        "\n",
        "**kernel**: control the manner in which the input variables will be projected. We consider the most popular kernel which are  linear, polynomial, and RBF.\n",
        "kernels in [‘linear’, ‘poly’, ‘rbf’, ‘sigmoid’]\n",
        "\n",
        "**Penalty**: It takes range of value and it has effect on  the shape of the resulting regions for each class. \n",
        "C in [100, 10, 1.0, 0.1, 0.001]"
      ],
      "metadata": {
        "id": "4wtox6xrtJrC"
      }
    },
    {
      "cell_type": "code",
      "source": [
        "#Using the gridSearchCV\n",
        "# define model and parameters\n",
        "model = SVC()\n",
        "kernel = ['poly', 'rbf', 'sigmoid']\n",
        "C = [50, 10, 1.0, 0.1, 0.01]\n",
        "gamma = ['scale']\n",
        "# define grid search\n",
        "grid = dict(kernel=kernel,C=C,gamma=gamma)\n",
        "cv = RepeatedStratifiedKFold(n_splits=10, n_repeats=3, random_state=1)\n",
        "grid_search = GridSearchCV(estimator=model, param_grid=grid, n_jobs=-1, cv=cv, scoring='accuracy',error_score=0)\n",
        "grid_result = grid_search.fit(X_t, y_t)\n",
        "# summarize results\n",
        "print(\"Best: %f using %s\" % (grid_result.best_score_, grid_result.best_params_))\n",
        "means = grid_result.cv_results_['mean_test_score']\n",
        "stds = grid_result.cv_results_['std_test_score']\n",
        "params = grid_result.cv_results_['params']\n",
        "for mean, stdev, param in zip(means, stds, params):\n",
        "    print(\"%f (%f) with: %r\" % (mean, stdev, param))\n"
      ],
      "metadata": {
        "colab": {
          "base_uri": "https://localhost:8080/"
        },
        "id": "taDCBCnzl1Fe",
        "outputId": "cff913a3-93f8-449e-f148-2e5dcca22b93"
      },
      "execution_count": null,
      "outputs": [
        {
          "output_type": "stream",
          "name": "stdout",
          "text": [
            "Best: 0.823689 using {'C': 1.0, 'gamma': 'scale', 'kernel': 'poly'}\n",
            "0.804440 (0.038851) with: {'C': 50, 'gamma': 'scale', 'kernel': 'poly'}\n",
            "0.801147 (0.037408) with: {'C': 50, 'gamma': 'scale', 'kernel': 'rbf'}\n",
            "0.700892 (0.048727) with: {'C': 50, 'gamma': 'scale', 'kernel': 'sigmoid'}\n",
            "0.804440 (0.038851) with: {'C': 10, 'gamma': 'scale', 'kernel': 'poly'}\n",
            "0.801147 (0.037408) with: {'C': 10, 'gamma': 'scale', 'kernel': 'rbf'}\n",
            "0.752643 (0.043986) with: {'C': 10, 'gamma': 'scale', 'kernel': 'sigmoid'}\n",
            "0.823689 (0.036368) with: {'C': 1.0, 'gamma': 'scale', 'kernel': 'poly'}\n",
            "0.815674 (0.035281) with: {'C': 1.0, 'gamma': 'scale', 'kernel': 'rbf'}\n",
            "0.767693 (0.037266) with: {'C': 1.0, 'gamma': 'scale', 'kernel': 'sigmoid'}\n",
            "0.750329 (0.044122) with: {'C': 0.1, 'gamma': 'scale', 'kernel': 'poly'}\n",
            "0.753146 (0.039488) with: {'C': 0.1, 'gamma': 'scale', 'kernel': 'rbf'}\n",
            "0.734809 (0.033460) with: {'C': 0.1, 'gamma': 'scale', 'kernel': 'sigmoid'}\n",
            "0.575453 (0.004408) with: {'C': 0.01, 'gamma': 'scale', 'kernel': 'poly'}\n",
            "0.575453 (0.004408) with: {'C': 0.01, 'gamma': 'scale', 'kernel': 'rbf'}\n",
            "0.575453 (0.004408) with: {'C': 0.01, 'gamma': 'scale', 'kernel': 'sigmoid'}\n"
          ]
        }
      ]
    },
    {
      "cell_type": "markdown",
      "source": [
        "The best parameter  {'C': 1.0, 'gamma': 'scale', 'kernel': 'poly'}"
      ],
      "metadata": {
        "id": "3QQBX5Fgl7tA"
      }
    },
    {
      "cell_type": "code",
      "source": [
        "X_train, X_test, y_train, y_test = train_test_split(X_t, y_t, test_size=0.2, random_state=0)\n",
        "# Run classifier\n",
        "classifier = OneVsRestClassifier(SVC(kernel='poly',C=1.0,gamma='scale', probability=True))\n",
        "clf=classifier.fit(X_train, y_train)\n",
        "print(\"model score: %.3f\" % classifier.score(X_test, y_test))\n",
        "yhat=classifier.predict(X_test)\n",
        "print(yhat)\n",
        "y_score = clf.decision_function(X_test)"
      ],
      "metadata": {
        "colab": {
          "base_uri": "https://localhost:8080/"
        },
        "id": "sjlRvlYjzNE2",
        "outputId": "44371640-08d8-4ba6-98ee-bc6e1bcf6c6f"
      },
      "execution_count": null,
      "outputs": [
        {
          "output_type": "stream",
          "name": "stdout",
          "text": [
            "model score: 0.838\n",
            "[1 1 0 0 1 1 1 0 0 1 1 0 0 1 1 0 2 1 0 0 1 0 1 1 1 2 1 0 1 0 0 1 1 1 0 1 1\n",
            " 1 0 1 1 0 1 0 0 1 1 1 1 1 0 1 0 1 1 1 1 1 0 0 1 1 1 1 0 1 1 0 1 0 0 1 1 1\n",
            " 1 1 0 0 1 0 1 4 1 0 0 1 1 0 1 0 0 2 1 2 1 1 0 1 0 0 1 1 0 1 0 0 1 1 0 1 0\n",
            " 1 1 1 0 0 0 0 1 0 0 1 1 1 0 1 1 2 0 1 0 1 2 1 0 0 0 1 1 1 1 1]\n"
          ]
        }
      ]
    },
    {
      "cell_type": "code",
      "source": [
        "cm = confusion_matrix(y_test, yhat, labels=classifier.classes_)\n",
        "disp = ConfusionMatrixDisplay(confusion_matrix=cm, display_labels=classifier.classes_)\n",
        "disp.plot()\n",
        "plt.show()"
      ],
      "metadata": {
        "colab": {
          "base_uri": "https://localhost:8080/",
          "height": 280
        },
        "id": "X4ZNCcttvD-2",
        "outputId": "b8e02328-7340-4dbc-9304-fc8308c030c5"
      },
      "execution_count": null,
      "outputs": [
        {
          "output_type": "display_data",
          "data": {
            "image/png": "[encoded data removed]",
            "text/plain": [
              "<Figure size 432x288 with 2 Axes>"
            ]
          },
          "metadata": {
            "needs_background": "light"
          }
        }
      ]
    },
    {
      "cell_type": "code",
      "source": [
        "from sklearn.metrics import precision_score,recall_score\n",
        "print(precision_score(y_test, yhat, average=None,zero_division=1))\n",
        "print(recall_score(y_test, yhat, average=None, zero_division=1))\n",
        "print(f1_score(y_test, yhat, average=None))"
      ],
      "metadata": {
        "colab": {
          "base_uri": "https://localhost:8080/"
        },
        "id": "MdcOi6xj-8J-",
        "outputId": "d0001adf-e289-48bf-d7bc-d6055ad3bf3b"
      },
      "execution_count": null,
      "outputs": [
        {
          "output_type": "stream",
          "name": "stdout",
          "text": [
            "[0.85185185 0.87654321 0.33333333 1.         0.        ]\n",
            "[0.9787234  0.92207792 0.2        0.         0.        ]\n",
            "[0.91089109 0.89873418 0.25       0.         0.        ]\n"
          ]
        }
      ]
    },
    {
      "cell_type": "markdown",
      "source": [
        "Precision, Recall and F1 score"
      ],
      "metadata": {
        "id": "s2mDkCsaY_pk"
      }
    },
    {
      "cell_type": "markdown",
      "source": [
        "# Neural Network"
      ],
      "metadata": {
        "id": "bbSVfXbSjUZz"
      }
    },
    {
      "cell_type": "code",
      "source": [
        "from sklearn.neural_network import MLPClassifier\n",
        "nn = MLPClassifier(solver='lbfgs', alpha=1e-5,hidden_layer_sizes=(5, 2), random_state=1)\n",
        "nn.fit(X_train, y_train)\n",
        "MLPClassifier(alpha=1e-05, hidden_layer_sizes=(5, 2), random_state=1,solver='lbfgs')\n",
        "print(\"model score: %.3f\" % nn.score(X_test, y_test))\n",
        "yhat=clf.predict(X_test)\n",
        "print(yhat)"
      ],
      "metadata": {
        "colab": {
          "base_uri": "https://localhost:8080/"
        },
        "id": "T8bsXATTWGcf",
        "outputId": "5dd61374-05e4-4e55-eb02-8be835503d8e"
      },
      "execution_count": null,
      "outputs": [
        {
          "output_type": "stream",
          "name": "stdout",
          "text": [
            "model score: 0.782\n",
            "[1 2 0 0 1 1 0 0 0 1 1 0 0 1 1 0 1 1 0 1 1 0 1 1 1 2 1 0 1 0 0 1 4 1 0 1 1\n",
            " 1 0 1 1 0 1 0 1 1 1 1 1 1 0 1 0 1 3 1 1 1 0 0 1 1 1 1 0 1 1 0 1 0 0 1 1 1\n",
            " 0 1 0 0 1 0 1 4 1 0 0 1 1 0 1 0 0 2 1 1 2 1 0 1 0 0 1 1 0 1 0 0 1 1 0 1 0\n",
            " 1 1 1 0 0 0 0 1 0 0 1 1 1 0 1 1 2 0 1 0 1 2 1 0 0 0 1 1 1 1 1]\n"
          ]
        }
      ]
    },
    {
      "cell_type": "code",
      "source": [
        "cm = confusion_matrix(y_test, yhat, labels=classifier.classes_)\n",
        "disp = ConfusionMatrixDisplay(confusion_matrix=cm, display_labels=classifier.classes_)\n",
        "disp.plot()\n",
        "plt.show()"
      ],
      "metadata": {
        "colab": {
          "base_uri": "https://localhost:8080/",
          "height": 280
        },
        "id": "bOzfQm8-U2o5",
        "outputId": "bf5e793f-c93b-4c99-fa65-e5e47471a4e0"
      },
      "execution_count": null,
      "outputs": [
        {
          "output_type": "display_data",
          "data": {
            "image/png": "[encoded data removed]",
            "text/plain": [
              "<Figure size 432x288 with 2 Axes>"
            ]
          },
          "metadata": {
            "needs_background": "light"
          }
        }
      ]
    },
    {
      "cell_type": "markdown",
      "source": [
        "Precision, Recall and F1 score"
      ],
      "metadata": {
        "id": "NqGoOOPOlBLN"
      }
    },
    {
      "cell_type": "code",
      "source": [
        "from sklearn.metrics import precision_score,recall_score\n",
        "print(precision_score(y_test, yhat, average=None,zero_division=1))\n",
        "print(recall_score(y_test, yhat, average=None, zero_division=1))\n",
        "print(f1_score(y_test, yhat, average=None))"
      ],
      "metadata": {
        "colab": {
          "base_uri": "https://localhost:8080/"
        },
        "id": "zEF_YlYfVXa3",
        "outputId": "912564a2-27e1-4b2c-b97f-2ede3a6b3319"
      },
      "execution_count": null,
      "outputs": [
        {
          "output_type": "stream",
          "name": "stdout",
          "text": [
            "[0.85185185 0.87654321 0.33333333 1.         0.        ]\n",
            "[0.9787234  0.92207792 0.2        0.         0.        ]\n",
            "[0.91089109 0.89873418 0.25       0.         0.        ]\n"
          ]
        }
      ]
    },
    {
      "cell_type": "code",
      "source": [
        "# Compare Algorithms\n",
        "import pandas\n",
        "import matplotlib.pyplot as plt\n",
        "from sklearn import model_selection\n",
        "from sklearn.linear_model import LogisticRegression\n",
        "from sklearn.pipeline import make_pipeline\n",
        "from sklearn.preprocessing import StandardScaler\n",
        "# load dataset\n",
        "# prepare configuration for cross validation test harness\n",
        "seed = 7\n",
        "# prepare models\n",
        "models = []\n",
        "models.append(('LR',OneVsRestClassifier(LogisticRegression())))\n",
        "models.append(('L-SVG',OneVsRestClassifier(SVC(kernel='poly',C=1.0,gamma='scale', probability=True))))\n",
        "models.append(('K-SVM',OneVsRestClassifier(SVC(kernel='linear'))))\n",
        "models.append(('NN', make_pipeline(StandardScaler(),MLPClassifier(solver='lbfgs', alpha=1e-5,hidden_layer_sizes=(5, 2), random_state=1))))\n",
        "# evaluate each model in turn\n",
        "results = []\n",
        "names = []\n",
        "scoring = 'accuracy'\n",
        "for name, model in models:\n",
        "\tkfold = model_selection.KFold(n_splits=5)\n",
        "\tcv_results = model_selection.cross_val_score(model, X_t, y_t, cv=kfold, scoring=scoring)\n",
        "\tresults.append(cv_results)\n",
        "\tnames.append(name)\n",
        "\tmsg = \"%s: %f (%f)\" % (name, cv_results.mean(), cv_results.std())\n",
        "\tprint(msg)\n",
        "# boxplot algorithm comparison\n",
        "fig = plt.figure()\n",
        "fig.suptitle('Algorithm Comparison')\n",
        "ax = fig.add_subplot(111)\n",
        "plt.boxplot(results)\n",
        "ax.set_xticklabels(names)\n",
        "plt.show()"
      ],
      "metadata": {
        "colab": {
          "base_uri": "https://localhost:8080/",
          "height": 598
        },
        "id": "MophuL3A4_Ly",
        "outputId": "a9cbf904-75a6-4193-87f8-846792ffdb78"
      },
      "execution_count": null,
      "outputs": [
        {
          "output_type": "stream",
          "name": "stdout",
          "text": [
            "LR: 0.596794 (0.190500)\n",
            "L-SVG: 0.515113 (0.137649)\n",
            "K-SVM: 0.624933 (0.165041)\n"
          ]
        },
        {
          "output_type": "stream",
          "name": "stderr",
          "text": [
            "/usr/local/lib/python3.7/dist-packages/sklearn/neural_network/_multilayer_perceptron.py:549: ConvergenceWarning: lbfgs failed to converge (status=1):\n",
            "STOP: TOTAL NO. of ITERATIONS REACHED LIMIT.\n",
            "\n",
            "Increase the number of iterations (max_iter) or scale the data as shown in:\n",
            "    https://scikit-learn.org/stable/modules/preprocessing.html\n",
            "  self.n_iter_ = _check_optimize_result(\"lbfgs\", opt_res, self.max_iter)\n",
            "/usr/local/lib/python3.7/dist-packages/sklearn/neural_network/_multilayer_perceptron.py:549: ConvergenceWarning: lbfgs failed to converge (status=1):\n",
            "STOP: TOTAL NO. of ITERATIONS REACHED LIMIT.\n",
            "\n",
            "Increase the number of iterations (max_iter) or scale the data as shown in:\n",
            "    https://scikit-learn.org/stable/modules/preprocessing.html\n",
            "  self.n_iter_ = _check_optimize_result(\"lbfgs\", opt_res, self.max_iter)\n"
          ]
        },
        {
          "output_type": "stream",
          "name": "stdout",
          "text": [
            "NN: 0.540416 (0.092430)\n"
          ]
        },
        {
          "output_type": "display_data",
          "data": {
            "image/png": "[encoded data removed]",
            "text/plain": [
              "<Figure size 432x288 with 1 Axes>"
            ]
          },
          "metadata": {
            "needs_background": "light"
          }
        }
      ]
    }
  ]
}